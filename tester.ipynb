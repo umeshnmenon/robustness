{
 "cells": [
  {
   "cell_type": "code",
   "execution_count": 7,
   "metadata": {},
   "outputs": [],
   "source": [
    "# This notebook shows a working example of testing model robustness using 'model_robustness' package\n",
    "# Any model that exposes a predict() function can be input to the robustness package\n",
    "# A simple classification model using Naive Bayes is shown as an example below. You can replace with your own model.\n",
    "# Data to the robustness package must be a pandas or h2o dataframe."
   ]
  },
  {
   "cell_type": "code",
   "execution_count": 3,
   "metadata": {},
   "outputs": [],
   "source": [
    "# creating a simple classification model\n",
    "import sklearn\n",
    "from sklearn.datasets import load_breast_cancer\n",
    "from sklearn.model_selection import train_test_split\n",
    "from sklearn.naive_bayes import GaussianNB\n",
    "\n",
    "# Load dataset\n",
    "data = load_breast_cancer()\n",
    "\n",
    "# Organize our data\n",
    "label_names = data['target_names']\n",
    "labels = data['target']\n",
    "feature_names = data['feature_names']\n",
    "features = data['data']\n",
    "\n",
    "# Split our data\n",
    "train, test, train_labels, test_labels = train_test_split(features,\n",
    "                                                          labels,\n",
    "                                                          test_size=0.33,\n",
    "                                                          random_state=42)\n",
    "\n",
    "# Initialize our classifier\n",
    "gnb = GaussianNB()\n",
    "\n",
    "# Train our classifier\n",
    "model = gnb.fit(train, train_labels)"
   ]
  },
  {
   "cell_type": "code",
   "execution_count": 9,
   "metadata": {},
   "outputs": [],
   "source": [
    "# Load the packages\n",
    "from model_robustness.bootstrap_harness.classification import ClassificationHarness\n",
    "import pandas as pd"
   ]
  },
  {
   "cell_type": "code",
   "execution_count": 10,
   "metadata": {},
   "outputs": [],
   "source": [
    "# Convert the np arrays to data frame as harness accepts only pandas dataframe and h2o dataframe\n",
    "test_df = pd.DataFrame(test)\n",
    "test_labels_df = pd.DataFrame(test_labels)\n",
    "harness = ClassificationHarness()\n",
    "res = harness.robustness_index(test_df, gnb, labels=test_labels_df, nsamples=3, nrecods=100)"
   ]
  },
  {
   "cell_type": "code",
   "execution_count": 6,
   "metadata": {},
   "outputs": [
    {
     "data": {
      "text/html": [
       "<div>\n",
       "<style scoped>\n",
       "    .dataframe tbody tr th:only-of-type {\n",
       "        vertical-align: middle;\n",
       "    }\n",
       "\n",
       "    .dataframe tbody tr th {\n",
       "        vertical-align: top;\n",
       "    }\n",
       "\n",
       "    .dataframe thead th {\n",
       "        text-align: right;\n",
       "    }\n",
       "</style>\n",
       "<table border=\"1\" class=\"dataframe\">\n",
       "  <thead>\n",
       "    <tr style=\"text-align: right;\">\n",
       "      <th></th>\n",
       "      <th>Statistic</th>\n",
       "      <th>Mean</th>\n",
       "      <th>SE</th>\n",
       "      <th>CL</th>\n",
       "      <th>LB</th>\n",
       "      <th>UB</th>\n",
       "      <th>CI</th>\n",
       "      <th>Robustness_Index</th>\n",
       "    </tr>\n",
       "  </thead>\n",
       "  <tbody>\n",
       "    <tr>\n",
       "      <th>0</th>\n",
       "      <td>Accuracy</td>\n",
       "      <td>0.9433</td>\n",
       "      <td>0.0067</td>\n",
       "      <td>95</td>\n",
       "      <td>0.914649</td>\n",
       "      <td>0.972018</td>\n",
       "      <td>0.9146 - 0.972</td>\n",
       "      <td>0.0574</td>\n",
       "    </tr>\n",
       "    <tr>\n",
       "      <th>0</th>\n",
       "      <td>F1</td>\n",
       "      <td>0.9567</td>\n",
       "      <td>0.0058</td>\n",
       "      <td>95</td>\n",
       "      <td>0.931728</td>\n",
       "      <td>0.981618</td>\n",
       "      <td>0.9317 - 0.9816</td>\n",
       "      <td>0.0499</td>\n",
       "    </tr>\n",
       "    <tr>\n",
       "      <th>0</th>\n",
       "      <td>AUC</td>\n",
       "      <td>0.9190</td>\n",
       "      <td>0.0159</td>\n",
       "      <td>95</td>\n",
       "      <td>0.850832</td>\n",
       "      <td>0.987233</td>\n",
       "      <td>0.8508 - 0.9872</td>\n",
       "      <td>0.1364</td>\n",
       "    </tr>\n",
       "  </tbody>\n",
       "</table>\n",
       "</div>"
      ],
      "text/plain": [
       "  Statistic    Mean      SE  CL        LB        UB               CI  \\\n",
       "0  Accuracy  0.9433  0.0067  95  0.914649  0.972018   0.9146 - 0.972   \n",
       "0        F1  0.9567  0.0058  95  0.931728  0.981618  0.9317 - 0.9816   \n",
       "0       AUC  0.9190  0.0159  95  0.850832  0.987233  0.8508 - 0.9872   \n",
       "\n",
       "   Robustness_Index  \n",
       "0            0.0574  \n",
       "0            0.0499  \n",
       "0            0.1364  "
      ]
     },
     "execution_count": 6,
     "metadata": {},
     "output_type": "execute_result"
    }
   ],
   "source": [
    "res"
   ]
  },
  {
   "cell_type": "code",
   "execution_count": 4,
   "metadata": {},
   "outputs": [],
   "source": []
  },
  {
   "cell_type": "code",
   "execution_count": 5,
   "metadata": {},
   "outputs": [],
   "source": []
  },
  {
   "cell_type": "code",
   "execution_count": null,
   "metadata": {},
   "outputs": [],
   "source": []
  }
 ],
 "metadata": {
  "kernelspec": {
   "display_name": "Python 3",
   "language": "python",
   "name": "python3"
  }
 },
 "nbformat": 4,
 "nbformat_minor": 2
}
